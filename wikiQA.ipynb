{
 "cells": [
  {
   "cell_type": "code",
   "execution_count": 16,
   "metadata": {},
   "outputs": [],
   "source": [
    "import json\n",
    "import tokenizers"
   ]
  },
  {
   "cell_type": "code",
   "execution_count": 83,
   "metadata": {},
   "outputs": [],
   "source": [
    "def load_dataset(path):\n",
    "    with open(path) as f:\n",
    "        data = json.load(f)['data']\n",
    "\n",
    "    data = data[0:1]\n",
    "    output = {'qids': [], 'questions': [], 'answers': [], 'contexts': [], 'qid2cid': []}\n",
    "    \n",
    "    for article in data:\n",
    "        for p in range(0, 5):\n",
    "            output['contexts'].append(article['paragraphs'][p]['context'])\n",
    "            for qa in article['paragraphs'][p]['qas']:\n",
    "                output['qids'].append(qa['id'])\n",
    "                output['questions'].append(qa['question'])\n",
    "                output['qid2cid'].append(len(output['contexts']) - 1)\n",
    "                if 'answers' in qa:\n",
    "                    output['answers'].append(qa['answers'])\n",
    "    return data, output\n"
   ]
  },
  {
   "cell_type": "code",
   "execution_count": 84,
   "metadata": {},
   "outputs": [],
   "source": [
    "data, output = load_dataset(\"train-v2.0.json\")"
   ]
  },
  {
   "cell_type": "code",
   "execution_count": 85,
   "metadata": {},
   "outputs": [
    {
     "data": {
      "text/plain": [
       "63"
      ]
     },
     "execution_count": 85,
     "metadata": {},
     "output_type": "execute_result"
    }
   ],
   "source": [
    "len(output['qid2cid'])"
   ]
  },
  {
   "cell_type": "code",
   "execution_count": 86,
   "metadata": {},
   "outputs": [],
   "source": [
    "from tokenizers import CoreNLPTokenizer\n",
    "def tokenize(text):\n",
    "    TOK = CoreNLPTokenizer()\n",
    "    tokens = TOK.tokenize(text)\n",
    "    output = {\n",
    "        'words': tokens.words(),\n",
    "        'offsets': tokens.offsets(),\n",
    "        'pos': tokens.pos(),\n",
    "        'lemma': tokens.lemmas(),\n",
    "        'ner': tokens.entities(),\n",
    "    }\n",
    "    return output"
   ]
  },
  {
   "cell_type": "code",
   "execution_count": 91,
   "metadata": {},
   "outputs": [],
   "source": [
    "def find_answer(offsets, begin_offset, end_offset):\n",
    "    \"\"\"Match token offsets with the char begin/end offsets of the answer.\"\"\"\n",
    "    start = [i for i, tok in enumerate(offsets) if tok[0] == begin_offset]\n",
    "    end = [i for i, tok in enumerate(offsets) if tok[1] == end_offset]\n",
    "    assert(len(start) <= 1)\n",
    "    assert(len(end) <= 1)\n",
    "    if len(start) == 1 and len(end) == 1:\n",
    "        return start[0], end[0]\n",
    "\n",
    "\n",
    "def process_dataset(data):\n",
    "    q_tokens = []\n",
    "    c_tokens = []\n",
    "    for i in data['questions']:\n",
    "        q_tokens.append(tokenize(i))\n",
    "    for i in data['contexts']:\n",
    "        c_tokens.append(tokenize(i))\n",
    "    for idx in range(len(data['qids'])):\n",
    "        question = q_tokens[idx]['words']\n",
    "        qlemma = q_tokens[idx]['lemma']\n",
    "        document = c_tokens[data['qid2cid'][idx]]['words']\n",
    "        offsets = c_tokens[data['qid2cid'][idx]]['offsets']\n",
    "        lemma = c_tokens[data['qid2cid'][idx]]['lemma']\n",
    "        pos = c_tokens[data['qid2cid'][idx]]['pos']\n",
    "        ner = c_tokens[data['qid2cid'][idx]]['ner']\n",
    "        ans_tokens = []\n",
    "        if len(data['answers']) > 0:\n",
    "            for ans in data['answers'][idx]:\n",
    "                found = find_answer(offsets,\n",
    "                                    ans['answer_start'],\n",
    "                                    ans['answer_start'] + len(ans['text']))\n",
    "                if found:\n",
    "                    ans_tokens.append(found)\n",
    "        yield {\n",
    "            'id': data['qids'][idx],\n",
    "            'question': question,\n",
    "            'document': document,\n",
    "            'offsets': offsets,\n",
    "            'answers': ans_tokens,\n",
    "            'qlemma': qlemma,\n",
    "            'lemma': lemma,\n",
    "            'pos': pos,\n",
    "            'ner': ner,\n",
    "        }\n"
   ]
  },
  {
   "cell_type": "code",
   "execution_count": 92,
   "metadata": {},
   "outputs": [],
   "source": [
    "with open('out_file.txt', 'w') as f:\n",
    "    for ex in process_dataset(output):\n",
    "        f.write(json.dumps(ex) + '\\n')"
   ]
  },
  {
   "cell_type": "code",
   "execution_count": null,
   "metadata": {},
   "outputs": [],
   "source": []
  }
 ],
 "metadata": {
  "kernelspec": {
   "display_name": "Python 3",
   "language": "python",
   "name": "python3"
  },
  "language_info": {
   "codemirror_mode": {
    "name": "ipython",
    "version": 3
   },
   "file_extension": ".py",
   "mimetype": "text/x-python",
   "name": "python",
   "nbconvert_exporter": "python",
   "pygments_lexer": "ipython3",
   "version": "3.6.5"
  }
 },
 "nbformat": 4,
 "nbformat_minor": 2
}
